{
 "cells": [
  {
   "cell_type": "code",
   "execution_count": null,
   "metadata": {
    "collapsed": true
   },
   "outputs": [],
   "source": [
    "import pandas as pd\n",
    "import numpy as np\n",
    "import itertools\n",
    "import networkx as nx \n",
    "import matplotlib.pyplot as plt\n",
    "from IPython.display import Image\n",
    "import warnings\n",
    "warnings.filterwarnings(\"ignore\") \n",
    "\n",
    "# Load baseline sample \n",
    "data = pd.read_csv('Middleware_only_231118.csv', sep = \";\", encoding = 'latin1') #reference\n",
    "data = data.replace(np.nan, '(blank)', regex=True)\n",
    "col = data.columns\n",
    "newcol = []\n",
    "for i in range(0,len(col)):\n",
    "    #print(i,col[i],'-->', data.iloc[1,i])\n",
    "    newcol.append(data.iloc[1,i])\n",
    "data.columns = newcol\n",
    "data = data.iloc[2:]\n",
    "# Build list of unique app\n",
    "data['Application A'] = data['Application A'].str.lower()\n",
    "data['Application B'] = data['Application B'].str.lower()\n",
    "app1 = data['Application A'].unique()\n",
    "app2 = data['Application B'].unique()\n",
    "app = []\n",
    "for item in app1:\n",
    "    app.append(item)\n",
    "for item in app2:\n",
    "    app.append(item)\n",
    "app = list(dict.fromkeys(app))"
   ]
  },
  {
   "cell_type": "code",
   "execution_count": null,
   "metadata": {
    "collapsed": true
   },
   "outputs": [],
   "source": [
    "g = nx.Graph()\n",
    "color_map = []\n",
    "# Create Node for each application \n",
    "for i in range(0,len(app)): \n",
    "    g.add_node(app[i], color='deepskyblue', type = 'app')\n",
    "# Create Edges between applications\n",
    "for i in range (0,len(data)):\n",
    "    if data.iloc[i,4] != '(blank)':\n",
    "        g.add_edge(data.iloc[i,0], data.iloc[i,2], color='lime', type=data.iloc[i,4], weight=1)\n",
    "    if data.iloc[i,5] != '(blank)':\n",
    "        g.add_edge(data.iloc[i,0], data.iloc[i,2], color='blue', type=data.iloc[i,5], weight=1)\n",
    "    if data.iloc[i,6] != '(blank)':\n",
    "        g.add_edge(data.iloc[i,0], data.iloc[i,2], color='pink', type=data.iloc[i,6], weight=1)\n",
    "    if data.iloc[i,7] != '(blank)':\n",
    "        g.add_edge(data.iloc[i,0], data.iloc[i,2], color='violet', type=data.iloc[i,7], weight=1)\n",
    "    if data.iloc[i,8] != '(blank)':\n",
    "        g.add_edge(data.iloc[i,0], data.iloc[i,2], color='orange', type=data.iloc[i,8], weight=1)\n",
    "    if data.iloc[i,9] != '(blank)':\n",
    "        g.add_edge(data.iloc[i,0], data.iloc[i,2], color='white', type=data.iloc[i,9], weight=1)\n",
    "    if data.iloc[i,10] != '(blank)':\n",
    "        g.add_edge(data.iloc[i,0], data.iloc[i,2], color='cyan', type=data.iloc[i,10], weight=1)\n",
    "    if data.iloc[i,11] != '(blank)':\n",
    "        g.add_edge(data.iloc[i,0], data.iloc[i,2], color='gold', type=data.iloc[i,11], weight=1)\n",
    "    if data.iloc[i,12] != '(blank)':\n",
    "        g.add_edge(data.iloc[i,0], data.iloc[i,2], color='green', type=data.iloc[i,12], weight=1)\n",
    "# Put nodes in color\n",
    "for n1, attr in g.nodes(data=True):\n",
    "    color_map.append('deepskyblue')"
   ]
  },
  {
   "cell_type": "code",
   "execution_count": null,
   "metadata": {},
   "outputs": [],
   "source": [
    "# Drawing Graph\n",
    "plt.figure(3,figsize=(50,50))  \n",
    "edges = g.edges()\n",
    "colors = [g[u][v]['color'] for u,v in edges]\n",
    "nx.draw(g,node_color = color_map, edge_color = colors, with_labels = True)\n",
    "plt.show()\n",
    "plt.savefig('graph.png')\n",
    "Image(filename='graph.png')"
   ]
  },
  {
   "cell_type": "code",
   "execution_count": null,
   "metadata": {},
   "outputs": [],
   "source": [
    "# Extract reference graph facts & metrics \n",
    "\n",
    "print('Reference Graph')\n",
    "print('Do we have a fully connected graph? ',nx.is_connected(g))\n",
    "h = g.to_directed()\n",
    "N, K = h.order(), h.size()\n",
    "avg_deg= float(K) / N\n",
    "print (\"# Applications & Services: \", len(app))\n",
    "print (\"# Nodes: \", N)\n",
    "print (\"# Edges: \", K)\n",
    "print (\"Average connectivity degree: \", avg_deg)\n",
    "# Extract reference graph facts & metrics \n",
    "print (\"SCC-strongly connected components: \", nx.number_strongly_connected_components(h))\n",
    "print (\"WCC-weakly connected components: \", nx.number_weakly_connected_components(h))\n",
    "in_degrees= h.in_degree() # dictionary node:degree\n",
    "#in_values= sorted(set(in_degrees.values()))"
   ]
  },
  {
   "cell_type": "code",
   "execution_count": null,
   "metadata": {},
   "outputs": [],
   "source": [
    "#query = 'NSP-SF'\n",
    "query = input('Application:')\n",
    "while query != 'exit':   \n",
    "    for i in nx.all_neighbors(g,query):\n",
    "        print(query,'-',i)\n",
    "    print()\n",
    "    query = input('Application:')"
   ]
  },
  {
   "cell_type": "code",
   "execution_count": null,
   "metadata": {},
   "outputs": [],
   "source": [
    "col = data.columns\n",
    "newcol = []\n",
    "for i in range(0,len(col)):\n",
    "    print(i,col[i],'-->', data.iloc[1,i])\n",
    "    newcol.append(data.iloc[1,i])"
   ]
  },
  {
   "cell_type": "code",
   "execution_count": null,
   "metadata": {},
   "outputs": [],
   "source": [
    "# Detect similar app names\n",
    "def similar(w1, w2):\n",
    "    w1 = w1 + ' ' * (len(w2) - len(w1))\n",
    "    w2 = w2 + ' ' * (len(w1) - len(w2))\n",
    "    return sum(1 if i == j else 0 for i, j in zip(w1, w2)) / float(len(w1))\n",
    "num = 0\n",
    "for item in app:\n",
    "    for other in app:\n",
    "        sim = similar(item, other)\n",
    "        if sim > 0.75 and sim < 1:\n",
    "            print(item,other,sim)\n",
    "            num+=1\n",
    "print(num, 'similar app names')"
   ]
  },
  {
   "cell_type": "code",
   "execution_count": null,
   "metadata": {},
   "outputs": [],
   "source": [
    "len(app)"
   ]
  },
  {
   "cell_type": "code",
   "execution_count": null,
   "metadata": {
    "collapsed": true
   },
   "outputs": [],
   "source": []
  }
 ],
 "metadata": {
  "kernelspec": {
   "display_name": "Python 3",
   "language": "python",
   "name": "python3"
  },
  "language_info": {
   "codemirror_mode": {
    "name": "ipython",
    "version": 3
   },
   "file_extension": ".py",
   "mimetype": "text/x-python",
   "name": "python",
   "nbconvert_exporter": "python",
   "pygments_lexer": "ipython3",
   "version": "3.6.3"
  }
 },
 "nbformat": 4,
 "nbformat_minor": 2
}
