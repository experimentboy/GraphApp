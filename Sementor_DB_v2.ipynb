{
 "cells": [
  {
   "cell_type": "code",
   "execution_count": null,
   "metadata": {
    "collapsed": true
   },
   "outputs": [],
   "source": [
    "%matplotlib inline\n",
    "import pandas as pd\n",
    "import numpy as np\n",
    "import itertools\n",
    "import networkx as nx \n",
    "import matplotlib.pyplot as plt\n",
    "from IPython.display import Image\n",
    "import warnings\n",
    "warnings.filterwarnings(\"ignore\") "
   ]
  },
  {
   "cell_type": "code",
   "execution_count": null,
   "metadata": {
    "collapsed": true
   },
   "outputs": [],
   "source": [
    "def Remove(duplicate): \n",
    "    final_list = [] \n",
    "    for num in duplicate: \n",
    "        if num not in final_list: \n",
    "            final_list.append(num) \n",
    "    return final_list "
   ]
  },
  {
   "cell_type": "code",
   "execution_count": null,
   "metadata": {
    "collapsed": true
   },
   "outputs": [],
   "source": [
    "# Sementor 'XREF_PROG_DB APP' ingestion\n",
    "xl = pd.ExcelFile('XREF_PROG_DB APP.xlsx')\n",
    "#xl.sheet_names\n",
    "db = xl.parse('XREF_PROG_DB APP')"
   ]
  },
  {
   "cell_type": "code",
   "execution_count": null,
   "metadata": {
    "collapsed": true
   },
   "outputs": [],
   "source": [
    "sp = db['Source Program'].unique()\n",
    "schema = db['DMS2 Schema Definition'].unique()\n",
    "app1 = db['String'].unique()\n",
    "app2 = db['String.1'].unique()\n",
    "app = []\n",
    "for item in app1:\n",
    "    app.append(item)\n",
    "for item in app2:\n",
    "    app.append(item)\n",
    "app = Remove(app)"
   ]
  },
  {
   "cell_type": "code",
   "execution_count": null,
   "metadata": {
    "collapsed": true
   },
   "outputs": [],
   "source": [
    "g = nx.Graph()\n",
    "color_map = []\n",
    "size = []\n",
    "for i in range (0,len(schema)):\n",
    "    g.add_node(schema[i], color='deepskyblue', type = 'db')\n",
    "    size.append(2000)\n",
    "for i in range (0,len(app)):\n",
    "    g.add_node(app[i], color='darkorange', type = 'app')\n",
    "    size.append(800)\n",
    "for i in range (0,len(db)):\n",
    "        g.add_edge(db.iloc[i,2], db.iloc[i,1], type='ext',color = 'blue', label='I', weight=1)\n",
    "        g.add_edge(db.iloc[i,3], db.iloc[i,2], type='ext',color = 'blue', label='II', weight=2)\n",
    "for n1, attr in g.nodes(data=True):\n",
    "    if attr['type'] == 'db':\n",
    "        color_map.append('deepskyblue')\n",
    "    if attr['type'] == 'app':\n",
    "        color_map.append('darkorange')"
   ]
  },
  {
   "cell_type": "code",
   "execution_count": null,
   "metadata": {
    "scrolled": true
   },
   "outputs": [],
   "source": [
    "# Drawing Graph\n",
    "plt.figure(1,figsize=(30,30));  \n",
    "edges = g.edges()\n",
    "colors = [g[u][v]['color'] for u,v in edges]\n",
    "nx.draw(g, node_size = size, font_size= 15, node_color = color_map, edge_color = colors, with_labels = True);\n",
    "plt.legend(('DB'), loc = 1, numpoints=2);\n",
    "plt.savefig('graph_db.png');\n",
    "Image(filename='graph_db.png');\n",
    "plt.show();"
   ]
  },
  {
   "cell_type": "code",
   "execution_count": null,
   "metadata": {},
   "outputs": [],
   "source": [
    "# Extract reference graph facts & metrics \n",
    "print('Reference Graph')\n",
    "print('Do we have a fully connected graph? ',nx.is_connected(g))\n",
    "h = g.to_directed()\n",
    "N, K = h.order(), h.size()\n",
    "avg_deg= float(K) / N\n",
    "print (\"# Applications: \", len(app))\n",
    "print (\"# Databases: \", len(schema))\n",
    "print (\"# Nodes: \", N)\n",
    "print (\"# Edges: \", K)\n",
    "print (\"Average connectivity degree: \", avg_deg)\n",
    "# Extract reference graph facts & metrics \n",
    "print (\"SCC-strongly connected components: \", nx.number_strongly_connected_components(h))\n",
    "print (\"WCC-weakly connected components: \", nx.number_weakly_connected_components(h))\n",
    "in_degrees= h.in_degree() # dictionary node:degree\n",
    "#in_values= sorted(set(in_degrees.values()))"
   ]
  },
  {
   "cell_type": "code",
   "execution_count": null,
   "metadata": {
    "collapsed": true
   },
   "outputs": [],
   "source": [
    "def get_subgraph(node):\n",
    "    ancestors = nx.ancestors(g,node)\n",
    "    ancestors.add(node)\n",
    "    return nx.subgraph(h, ancestors)\n",
    "def draw_subgraph(graph,db):\n",
    "    color_map = []\n",
    "    plt.figure(3,figsize=(25,25))\n",
    "    for n1, attr in graph.nodes(data=True):\n",
    "        if attr['type'] == 'db':\n",
    "            color_map.append('deepskyblue')\n",
    "        if attr['type'] == 'app':\n",
    "            color_map.append('darkorange')\n",
    "    nx.draw(graph, node_size = 1000, node_color = color_map, edge_color = 'grey', width=1.0, size=0.3, with_labels = True)\n",
    "    name = 'sub_graph_'+db+'.png'\n",
    "    plt.savefig(name)\n",
    "    Image(filename= name)\n",
    "    plt.show()   "
   ]
  },
  {
   "cell_type": "code",
   "execution_count": null,
   "metadata": {},
   "outputs": [],
   "source": [
    "# DB centric view (all)\n",
    "for i in range(0,len(schema)):\n",
    "    node = schema[i]\n",
    "    z = get_subgraph(node)\n",
    "    draw_subgraph(z,node)"
   ]
  },
  {
   "cell_type": "code",
   "execution_count": null,
   "metadata": {
    "collapsed": true
   },
   "outputs": [],
   "source": []
  },
  {
   "cell_type": "code",
   "execution_count": null,
   "metadata": {
    "collapsed": true
   },
   "outputs": [],
   "source": []
  },
  {
   "cell_type": "code",
   "execution_count": null,
   "metadata": {},
   "outputs": [],
   "source": [
    "db.head(5)"
   ]
  },
  {
   "cell_type": "code",
   "execution_count": null,
   "metadata": {
    "collapsed": true
   },
   "outputs": [],
   "source": []
  }
 ],
 "metadata": {
  "kernelspec": {
   "display_name": "Python 3",
   "language": "python",
   "name": "python3"
  },
  "language_info": {
   "codemirror_mode": {
    "name": "ipython",
    "version": 3
   },
   "file_extension": ".py",
   "mimetype": "text/x-python",
   "name": "python",
   "nbconvert_exporter": "python",
   "pygments_lexer": "ipython3",
   "version": "3.6.3"
  }
 },
 "nbformat": 4,
 "nbformat_minor": 2
}
