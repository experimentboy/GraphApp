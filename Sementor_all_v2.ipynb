{
 "cells": [
  {
   "cell_type": "code",
   "execution_count": null,
   "metadata": {
    "collapsed": true
   },
   "outputs": [],
   "source": [
    "%matplotlib inline\n",
    "import pandas as pd\n",
    "import numpy as np\n",
    "import itertools\n",
    "import re\n",
    "import networkx as nx \n",
    "import matplotlib.pyplot as plt\n",
    "from IPython.display import Image\n",
    "import warnings\n",
    "warnings.filterwarnings(\"ignore\") "
   ]
  },
  {
   "cell_type": "code",
   "execution_count": null,
   "metadata": {
    "collapsed": true
   },
   "outputs": [],
   "source": [
    "# Sementor 'XREF_PROG_COPY APP' ingestion\n",
    "xl = pd.ExcelFile('XREF_PROG_COPY APP.xlsx')\n",
    "copy = xl.parse('XREF_PROG_COPY APP')\n",
    "# Sementor 'XREF_PROG_LB APP' ingestion\n",
    "xl = pd.ExcelFile('XREF_PROG_LB APP.xlsx')\n",
    "lb = xl.parse('XREF_PROG_LB APP')\n",
    "# Sementor 'XREF_PROG_DB APP' ingestion\n",
    "xl = pd.ExcelFile('XREF_PROG_SAGE APP.xlsx')\n",
    "sage = xl.parse('XREF_PROG_SAGE APP')\n",
    "# Sementor 'XREF_PROG_FILE APP' ingestion\n",
    "xl = pd.ExcelFile('XREF_PROG_FILE APP.xlsx')\n",
    "ft = xl.parse('XREF_PROG_FILE APP')\n",
    "# Sementor 'XREF_PROG_EASY APP' ingestion\n",
    "xl = pd.ExcelFile('XREF_PROG_EASY APP.xlsx')\n",
    "easy = xl.parse('XREF_PROG_EASY APP')\n",
    "# Sementor 'XREF_PROG_DB APP' ingestion\n",
    "xl = pd.ExcelFile('XREF_PROG_DB APP.xlsx')\n",
    "db = xl.parse('XREF_PROG_DB APP')"
   ]
  },
  {
   "cell_type": "code",
   "execution_count": null,
   "metadata": {
    "collapsed": true
   },
   "outputs": [],
   "source": [
    "def Remove(duplicate): \n",
    "    final_list = [] \n",
    "    for num in duplicate: \n",
    "        if num not in final_list: \n",
    "            final_list.append(num) \n",
    "    return final_list \n",
    "\n",
    "def flow(node):\n",
    "    out = '?'\n",
    "    if node in sp: out = 'Source Program'\n",
    "    if node in cee: out = 'Called Executable entry'\n",
    "    if node in ids: out = 'Sage-Literal'\n",
    "    if node in file: out = 'Physical File'\n",
    "    if node in ide: out = 'Easy Client'\n",
    "    if node in schema: out = 'DMS2 Schema Definition'\n",
    "    if node in cc: out = 'Cobol Copy'\n",
    "    if node in app: out = 'Tight Coupled'\n",
    "    return out\n",
    "\n",
    "def clean(applist):\n",
    "    print('### AppName')\n",
    "    print('-----------')\n",
    "    for i in range(len(applist)):\n",
    "        temp = applist[i]\n",
    "        test = re.compile('[A-Z]{3}')\n",
    "        try:\n",
    "            out = test.findall(temp)\n",
    "        except:\n",
    "            print(i,temp)\n",
    "        if len(out) != 1:\n",
    "            print(i, temp)\n",
    "\n",
    "# extract all app's\n",
    "app = []\n",
    "app1 = copy['String'].unique()\n",
    "app2 = copy['String.1'].unique()\n",
    "app3 = lb['String'].unique()\n",
    "app4 = lb['String.1'].unique()\n",
    "app5 = sage['String'].unique()\n",
    "app6 = sage['String.1'].unique()\n",
    "app7 = ft['String'].unique()\n",
    "app8 = ft['String.1'].unique()\n",
    "app9 = easy['String'].unique()\n",
    "app10 = easy['String.1'].unique()\n",
    "app11 = db['String'].unique()\n",
    "app12 = db['String.1'].unique()\n",
    "for item in app1:\n",
    "    app.append(item)\n",
    "for item in app2:\n",
    "    app.append(item)\n",
    "for item in app3:\n",
    "    app.append(item)\n",
    "for item in app4:\n",
    "    app.append(item)    \n",
    "for item in app5:\n",
    "    app.append(item)\n",
    "for item in app6:\n",
    "    app.append(item)\n",
    "for item in app7:\n",
    "    app.append(item)\n",
    "for item in app8:\n",
    "    app.append(item)\n",
    "for item in app9:\n",
    "    app.append(item)\n",
    "for item in app10:\n",
    "    app.append(item)\n",
    "for item in app11:\n",
    "    app.append(item)\n",
    "for item in app12:\n",
    "    app.append(item)\n",
    "app = Remove(app)\n",
    "#-----------------------------------\n",
    "for i in range(0,len(app)-1):\n",
    "    if app[i] == 0: del app[i]\n",
    "    if app[i] == 'pAN': app[i] = app[i].upper()\n",
    "#-----------------------------------\n",
    "# detect potential errors\n",
    "print(clean(app))"
   ]
  },
  {
   "cell_type": "code",
   "execution_count": null,
   "metadata": {
    "collapsed": true
   },
   "outputs": [],
   "source": [
    "# extract others references\n",
    "sp = []\n",
    "sp1 = copy['Source Program'].unique()\n",
    "cc = copy['Cobol Copy'].unique()\n",
    "sp2 = lb['Source Program'].unique()\n",
    "cee = lb['Called Executable entry'].unique()\n",
    "sp3 = sage['Source Program'].unique()\n",
    "ids = sage['Literal'].unique()\n",
    "sp4 = ft['Source Program'].unique()\n",
    "file = ft['Physical File'].unique()\n",
    "sp5 = easy['Source Program'].unique()\n",
    "ide = easy['Client'].unique()\n",
    "sp6 = db['Source Program'].unique()\n",
    "schema = db['DMS2 Schema Definition'].unique()\n",
    "for item in sp1:\n",
    "    sp.append(item)\n",
    "for item in sp2:\n",
    "    sp.append(item)\n",
    "for item in sp3:\n",
    "    sp.append(item)\n",
    "for item in sp4:\n",
    "    sp.append(item)\n",
    "for item in sp5:\n",
    "    sp.append(item)\n",
    "for item in sp6:\n",
    "    sp.append(item)\n",
    "sp = Remove(sp)"
   ]
  },
  {
   "cell_type": "code",
   "execution_count": null,
   "metadata": {
    "collapsed": true
   },
   "outputs": [],
   "source": [
    "g = nx.Graph()\n",
    "color_map = []\n",
    "size = []\n",
    "# create app nodes\n",
    "for i in range (0,len(app)):\n",
    "    g.add_node(app[i], color='darkorange', type = 'app')\n",
    "    size.append(100)\n",
    "# create sp nodes\n",
    "for i in range (0,len(sp)):\n",
    "    g.add_node(sp[i], color='plum', type = 'sp')\n",
    "    size.append(500)\n",
    "# create cc nodes\n",
    "for i in range (0,len(cc)):\n",
    "    g.add_node(cc[i], color='deepskyblue', type = 'cc')\n",
    "    size.append(100)\n",
    "# create lb nodes\n",
    "for i in range (0,len(cee)):\n",
    "    g.add_node(cee[i], color='cyan', type = 'file')\n",
    "    size.append(100)\n",
    "# create sage nodes\n",
    "for i in range(0,len(ids)):\n",
    "    g.add_node(ids[i], color='cyan', type = 'sage')\n",
    "    size.append(100)\n",
    "# create cc nodes\n",
    "for i in range (0,len(file)):\n",
    "    g.add_node(file[i], color='deepskyblue', type = 'file')\n",
    "    size.append(100)\n",
    "# create easy nodes\n",
    "for i in range (0,len(ide)):\n",
    "    g.add_node(ide[i], color='deepskyblue', type = 'file')\n",
    "    size.append(100)\n",
    "# create db nodes\n",
    "for i in range (0,len(schema)):\n",
    "    g.add_node(schema[i], color='deepskyblue', type = 'db')\n",
    "    size.append(200)\n",
    "for i in range(0,len(copy)):\n",
    "    g.add_edge(copy.iloc[i,2], copy.iloc[i,1], type='int',color = 'blue', label='', weight=1)   # add edges sp-app source\n",
    "    g.add_edge(copy.iloc[i,3], copy.iloc[i,2], type='ext',color = 'blue', label='', weight=1)   # add edges sp-app dest\n",
    "    g.add_edge(copy.iloc[i,0], copy.iloc[i,2], type='int',color = 'green', label='', weight=1)  # add edges sp-cc\n",
    "for i in range (0,len(lb)):\n",
    "    g.add_edge(lb.iloc[i,2], lb.iloc[i,1], type='int',color = 'blue', label='', weight=1)       # add edges lb-app source\n",
    "    g.add_edge(lb.iloc[i,3], lb.iloc[i,2], type='ext',color = 'blue', label='', weight=1)       # add edges lb-app dest\n",
    "    g.add_edge(lb.iloc[i,0], lb.iloc[i,2], type='int',color = 'green', label= '', weight=2)     # add edges sp-cc\n",
    "for i in range (0,len(sage)):\n",
    "    g.add_edge(sage.iloc[i,2],sage.iloc[i,1],type='int',color='blue',label='',weight=1)         # add edges sage-app source\n",
    "    g.add_edge(sage.iloc[i,3],sage.iloc[i,2],type='ext',color='blue',label='',weight=1)         # add edges sage-app dest\n",
    "    g.add_edge(sage.iloc[i,0],sage.iloc[i,2],type='int',color='green',label='',weight=1)        # add edges sage-cc\n",
    "for i in range (0,len(ft)):\n",
    "    g.add_edge(ft.iloc[i,2], ft.iloc[i,1], type='int',color = 'blue', label='', weight=1)       # add edges sp-app source\n",
    "    g.add_edge(ft.iloc[i,3], ft.iloc[i,2], type='ext',color = 'blue', label='', weight=2)       # add edges sp-app dest\n",
    "    g.add_edge(ft.iloc[i,0], ft.iloc[i,2], type='int',color = 'green', label='', weight=2)      # add edges ft-cc\n",
    "for i in range (0,len(easy)):\n",
    "    g.add_edge(easy.iloc[i,2], easy.iloc[i,1], color='blue', type= 'int', label= '', weight=1)  # add edges easy-app source\n",
    "    g.add_edge(easy.iloc[i,3], easy.iloc[i,2], color='blue', type= 'ext', label= '', weight=1)  # add edges easy-app dest\n",
    "    g.add_edge(easy.iloc[i,0], easy.iloc[i,2], color='green', type= 'int', label= '', weight=1) # add edges easy-cc\n",
    "for i in range (0,len(db)):\n",
    "    g.add_edge(db.iloc[i,2], db.iloc[i,1], type='int',color = 'blue', label='', weight=1)       # add edges db-app source\n",
    "    g.add_edge(db.iloc[i,3], db.iloc[i,2], type='ext',color = 'blue', label='', weight=1)       # add edges db-app dest\n",
    "    g.add_edge(db.iloc[i,0], db.iloc[i,2], type='int',color = 'blue', label='', weight=1)       # add edges db-cc"
   ]
  },
  {
   "cell_type": "code",
   "execution_count": null,
   "metadata": {
    "collapsed": true
   },
   "outputs": [],
   "source": [
    "# Extract reference graph facts & metrics \n",
    "print('Reference Graph')\n",
    "print('Do we have a fully connected graph? ',nx.is_connected(g))\n",
    "h = g.to_directed()\n",
    "N, K = h.order(), h.size()\n",
    "avg_deg= float(K) / N\n",
    "print (\"# Applications: \", len(app))\n",
    "print (\"# Source Program: \", len(sp))\n",
    "print (\"# Nodes: \", N)\n",
    "print (\"# Edges: \", K)\n",
    "print (\"Average connectivity degree: \", avg_deg)\n",
    "# Extract reference graph facts & metrics \n",
    "print (\"SCC-strongly connected components: \", nx.number_strongly_connected_components(h))\n",
    "print (\"WCC-weakly connected components: \", nx.number_weakly_connected_components(h))\n",
    "in_degrees= h.in_degree() # dictionary node:degree\n",
    "#in_values= sorted(set(in_degrees.values()))"
   ]
  },
  {
   "cell_type": "code",
   "execution_count": null,
   "metadata": {
    "collapsed": true,
    "scrolled": false
   },
   "outputs": [],
   "source": [
    "# Text query on graph\n",
    "query = input('Asset (or exit):')\n",
    "while query != 'exit':\n",
    "    try:\n",
    "        list = nx.all_neighbors(g,query)\n",
    "        for i in list:\n",
    "            if len(i) != 4: # not a DB\n",
    "                print(query,'-',flow(i),'-',i)\n",
    "            else:\n",
    "                print(query,'-',flow(i),'- DB -',i)\n",
    "        print('')\n",
    "    except:\n",
    "        print('no info in Sementor')\n",
    "    query = input('Asset (or exit):')"
   ]
  },
  {
   "cell_type": "code",
   "execution_count": null,
   "metadata": {
    "collapsed": true
   },
   "outputs": [],
   "source": [
    "# query the graph in text mode\n",
    "def text(center):\n",
    "    out = []\n",
    "    try:\n",
    "        list = nx.all_neighbors(g,center)\n",
    "        for i in list:\n",
    "            if len(i) != 4 :# not a DB\n",
    "                temp2 = center+'-'+flow(i)+'-'+i\n",
    "                out.append(temp2)\n",
    "            else:\n",
    "                temp2 = center+'-'+flow(i)+'- DB -'+i\n",
    "                out.append(temp2)\n",
    "    except: \n",
    "        out.append(center,'- no info in sementor')\n",
    "    \n",
    "    return out"
   ]
  },
  {
   "cell_type": "code",
   "execution_count": null,
   "metadata": {
    "collapsed": true
   },
   "outputs": [],
   "source": [
    "def graph(center):\n",
    "    x = nx.DiGraph()\n",
    "    color_map = []\n",
    "    size = []\n",
    "    alpha = []\n",
    "    # Create Node for each connection\n",
    "    x.add_node(center, color='gold', type = 'centroid')\n",
    "    connected = nx.all_neighbors(g,center)\n",
    "    for i in connected: \n",
    "        temp = flow(i)\n",
    "        x.add_node(i, color='darkorange', type = temp)\n",
    "        # Create Edges between applications\n",
    "        if temp != 'DMS2 Schema Definition':\n",
    "            if temp != 'Cobol Copy' and temp != 'Called Executable entry':\n",
    "                x.add_edge(center, i, weight=.6, label=temp)\n",
    "            else:\n",
    "                x.remove_node(i)\n",
    "        else:\n",
    "            x.add_edge(center, i, weight=.5, label=temp)\n",
    "    for n1, attr in x.nodes(data=True):\n",
    "        if attr['type'] == 'centroid':\n",
    "                color_map.append('gold')\n",
    "                size.append(3500)\n",
    "                alpha.append(1)\n",
    "        elif attr['type'] == 'Tight Coupled':\n",
    "                color_map.append('lightgreen')\n",
    "                size.append(3000)\n",
    "                alpha.append(.5)\n",
    "        else:\n",
    "            if attr['type'] == 'DMS2 Schema Definition':\n",
    "                color_map.append('blue')\n",
    "                size.append(3500)\n",
    "                alpha.append(1)\n",
    "            else:\n",
    "                color_map.append('darkorange')\n",
    "                size.append(2000)\n",
    "                alpha.append(.5)\n",
    "    elarge=[(u,v) for (u,v,d) in x.edges(data=True) if d['weight'] >0.5] # solid edge\n",
    "    esmall=[(u,v) for (u,v,d) in x.edges(data=True) if d['weight'] <=0.5] # dashed edge\n",
    "    pos=nx.spring_layout(x)\n",
    "    #pos=nx.circular_layout(x);\n",
    "    # Draw nodes\n",
    "    plt.figure(1,figsize=(12,12));  \n",
    "    nx.draw_networkx_nodes(x,pos, node_size=size, node_color=color_map, alpha= alpha);\n",
    "    # Draw edges\n",
    "    nx.draw_networkx_edges(x,pos,edgelist=elarge, arrows=True, width=5.0, edge_color='g',arrowstyle='-|>');\n",
    "    nx.draw_networkx_edges(x,pos,edgelist=esmall, arrows=True, width=5.0, edge_color='b',style='dashed', arrowstyle='-|>');\n",
    "    # Draw node labels\n",
    "    nx.draw_networkx_labels(x,pos,font_size=12,font_family='sans-serif');\n",
    "    # Draw edge labels\n",
    "    edge_labels =dict([((u, v), d['label'])for u, v, d in x.edges(data=True)])\n",
    "    nx.draw_networkx_edge_labels(x, pos, edge_labels=edge_labels);\n",
    "    plt.axis('off');\n",
    "    name = 'graph_'+ center +'.png'\n",
    "    name = name.replace('/','_')\n",
    "    #plt.savefig(name)\n",
    "    plt.show(); # display\n",
    "    x.clear()\n",
    "    plt.clf();"
   ]
  },
  {
   "cell_type": "code",
   "execution_count": null,
   "metadata": {
    "collapsed": true
   },
   "outputs": [],
   "source": [
    "graph('LIF/CC/CHK_PAN14_PROC')"
   ]
  },
  {
   "cell_type": "code",
   "execution_count": null,
   "metadata": {
    "collapsed": true
   },
   "outputs": [],
   "source": [
    "graph('KGC/CC/FOPEDAY')"
   ]
  },
  {
   "cell_type": "code",
   "execution_count": null,
   "metadata": {
    "collapsed": true
   },
   "outputs": [],
   "source": [
    "graph('OVI/NS/CTL_LAYOUT2')"
   ]
  },
  {
   "cell_type": "code",
   "execution_count": null,
   "metadata": {
    "collapsed": true
   },
   "outputs": [],
   "source": []
  },
  {
   "cell_type": "code",
   "execution_count": null,
   "metadata": {
    "collapsed": true
   },
   "outputs": [],
   "source": [
    "for i in cc:\n",
    "    print(i)"
   ]
  },
  {
   "cell_type": "code",
   "execution_count": null,
   "metadata": {
    "collapsed": true,
    "scrolled": true
   },
   "outputs": [],
   "source": [
    "# Graph generator all service programs\n",
    "for i in range(0,len(sp)):\n",
    "    print(i,sp[i])\n",
    "    graph(sp[i])"
   ]
  },
  {
   "cell_type": "code",
   "execution_count": null,
   "metadata": {
    "collapsed": true
   },
   "outputs": [],
   "source": [
    "# text generator all Apps\n",
    "for i in app:\n",
    "    filename = i+'_text_v1.txt'\n",
    "    print(filename)\n",
    "    f = open(filename, 'w')\n",
    "    tofile = text(i)\n",
    "    for j in tofile:\n",
    "        ready = j + '\\n'\n",
    "        f.write(ready)\n",
    "    f.close()\n"
   ]
  },
  {
   "cell_type": "code",
   "execution_count": null,
   "metadata": {
    "collapsed": true
   },
   "outputs": [],
   "source": [
    "#missing \n",
    "#CSI/PO/702\n",
    "#EBK/PO/443\n",
    "#..."
   ]
  },
  {
   "cell_type": "code",
   "execution_count": null,
   "metadata": {
    "collapsed": true
   },
   "outputs": [],
   "source": [
    "out"
   ]
  },
  {
   "cell_type": "code",
   "execution_count": null,
   "metadata": {
    "collapsed": true
   },
   "outputs": [],
   "source": [
    "# Check Load baseline sample from Sementor vs CMDB\n",
    "data = pd.read_csv('2018-10-17 C_Tbl_Report_Snow_App_Node_Rack_Chain_VS_BE_Mav.csv',sep = \";\", encoding = 'latin1') #reference\n",
    "data['APP_Name'] = data['APP_Name'].str.upper()\n",
    "apps = data.APP_Name.unique()\n",
    "match = []\n",
    "gap = []\n",
    "out =[]\n",
    "for i in range(0,len(app)):\n",
    "    for j in range(0,len(apps)):\n",
    "        if app[i] == apps[j]:\n",
    "            match.append(apps[j])  \n",
    "        else:\n",
    "            out.append(app)\n",
    "            gap.append(apps[j])\n",
    "out = Remove(out)            \n",
    "match = Remove(match)\n",
    "gap = Remove(gap)\n",
    "labels = 'Sementor Apps not in CMDB', 'Sementor Apps in CMDB'\n",
    "colors = ['#ff9999','#99ff99']\n",
    "sizes = [len(app)-len(match), len(match)]\n",
    "explode = (0.1, 0)\n",
    "fig1, ax1 = plt.subplots()\n",
    "fig1.suptitle('Applications Sementor/CMDB', fontsize=18)\n",
    "ax1.pie(sizes, explode=explode, labels=labels, colors=colors, autopct='%1.2f%%',shadow=True, startangle=90)\n",
    "ax1.axis('equal')  \n",
    "plt.show()"
   ]
  },
  {
   "cell_type": "code",
   "execution_count": null,
   "metadata": {
    "collapsed": true
   },
   "outputs": [],
   "source": [
    "# Detect similar app names\n",
    "def similar(w1, w2):\n",
    "    w1 = w1 + ' ' * (len(w2) - len(w1))\n",
    "    w2 = w2 + ' ' * (len(w1) - len(w2))\n",
    "    return sum(1 if i == j else 0 for i, j in zip(w1, w2)) / float(len(w1))\n",
    "num = 0\n",
    "# treat NAN\n",
    "#del out[0]\n",
    "apps[0] = '?'\n",
    "for item in apps:\n",
    "    for other in out:\n",
    "        sim = similar(item, other)\n",
    "        if sim > 0.5 and sim < 1:\n",
    "            print(item,other,sim)\n",
    "            num+=1\n",
    "print(num, 'similar app names')"
   ]
  },
  {
   "cell_type": "code",
   "execution_count": null,
   "metadata": {
    "collapsed": true
   },
   "outputs": [],
   "source": [
    "gap"
   ]
  },
  {
   "cell_type": "code",
   "execution_count": null,
   "metadata": {
    "collapsed": true
   },
   "outputs": [],
   "source": []
  }
 ],
 "metadata": {
  "kernelspec": {
   "display_name": "Python 3",
   "language": "python",
   "name": "python3"
  },
  "language_info": {
   "codemirror_mode": {
    "name": "ipython",
    "version": 3
   },
   "file_extension": ".py",
   "mimetype": "text/x-python",
   "name": "python",
   "nbconvert_exporter": "python",
   "pygments_lexer": "ipython3",
   "version": "3.6.3"
  }
 },
 "nbformat": 4,
 "nbformat_minor": 2
}
