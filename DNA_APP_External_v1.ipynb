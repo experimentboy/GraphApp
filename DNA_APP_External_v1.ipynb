{
 "cells": [
  {
   "cell_type": "markdown",
   "metadata": {},
   "source": [
    "# Initial data preprocessing"
   ]
  },
  {
   "cell_type": "code",
   "execution_count": null,
   "metadata": {
    "collapsed": true
   },
   "outputs": [],
   "source": [
    "import pandas as pd\n",
    "import numpy as np\n",
    "import re\n",
    "import matplotlib.pyplot as plt\n",
    "%matplotlib inline  \n",
    "#from IPython.display import Image\n",
    "from collections import Counter\n",
    "import networkx as nx \n",
    "import warnings\n",
    "warnings.filterwarnings(\"ignore\") \n",
    "# Load soll of all registred NPA \n",
    "data = pd.read_csv('NPA_soll.csv', sep = \";\", encoding = 'latin1') #reference \n",
    "# Deduplicate data\n",
    "data['App name'] = data['App name'].str.upper()\n",
    "data['NPA Name'] = data['NPA Name'].str.upper()\n",
    "data['Account Type (System / Service)'] = data['Account Type (System / Service)'].str.upper()\n",
    "# Create dictionaries\n",
    "apps = data['App name'].unique()\n",
    "npas = data['NPA Name'].unique()\n",
    "types = data['Account Type (System / Service)'].unique()\n"
   ]
  },
  {
   "cell_type": "markdown",
   "metadata": {},
   "source": [
    "# Graph Creation"
   ]
  },
  {
   "cell_type": "code",
   "execution_count": null,
   "metadata": {
    "collapsed": true
   },
   "outputs": [],
   "source": [
    "# Create graph from data \n",
    "g = nx.Graph()\n",
    "color_map = []\n",
    "for i in range(0,len(apps)): #len(names)\n",
    "    g.add_node(apps[i], type = 'app')\n",
    "for i in range(0,len(npas)):\n",
    "    g.add_node(npas[i], type = 'npa')\n",
    "for i in range (0,len(data)):\n",
    "    if data.iloc[i,11] == \"system\":\n",
    "        g.add_edge(data.iloc[i,4], data.iloc[i,0], color='grey', weight=1)\n",
    "    elif data.iloc[i,11] == \"service\":\n",
    "        g.add_edge(data.iloc[i,4], data.iloc[i,0], color='green', weight=1)\n",
    "    elif data.iloc[i,11] == \"generic\":\n",
    "        g.add_edge(data.iloc[i,4], data.iloc[i,0], color='blue', weight=1)\n",
    "    elif data.iloc[i,11] == \"locked\":\n",
    "        g.add_edge(data.iloc[i,4], data.iloc[i,0], color='red', weight=1) \n",
    "    else:\n",
    "        g.add_edge(data.iloc[i,4], data.iloc[i,0], color='black', weight=1) \n",
    "for n1, attr in g.nodes(data=True):\n",
    "    if attr['type'] == 'app':\n",
    "        color_map.append('lime')\n",
    "    else: \n",
    "        if attr['type'] == 'npa':\n",
    "            color_map.append('cyan')\n"
   ]
  },
  {
   "cell_type": "markdown",
   "metadata": {},
   "source": [
    "# Graph Query (External) "
   ]
  },
  {
   "cell_type": "code",
   "execution_count": null,
   "metadata": {},
   "outputs": [],
   "source": [
    "#query App2App\n",
    "#query = 'NSP-SF'\n",
    "query = input('Application:')\n",
    "while query != 'exit':   \n",
    "    for i in nx.all_neighbors(g,query):\n",
    "        for j in nx.all_neighbors(g,i):\n",
    "            if j != query:\n",
    "                #print(query,'-',end='')\n",
    "                print(query,'-2App-',j,'(using NPA:',i,')' )\n",
    "    print()\n",
    "    query = input('Application:')"
   ]
  },
  {
   "cell_type": "code",
   "execution_count": null,
   "metadata": {},
   "outputs": [],
   "source": [
    "apps"
   ]
  },
  {
   "cell_type": "markdown",
   "metadata": {},
   "source": [
    "# Graph Metrics "
   ]
  },
  {
   "cell_type": "code",
   "execution_count": null,
   "metadata": {},
   "outputs": [],
   "source": [
    "# Extract reference graph facts & metrics \n",
    "print('Reference Graph')\n",
    "print('Do we have a fully connected graph? ',nx.is_connected(g))\n",
    "d = list(nx.connected_component_subgraphs(g))\n",
    "print('The graph contains',len(d), 'sub-graph')\n",
    "nx.isolates(g)\n",
    "h = g.to_directed()\n",
    "N, K = h.order(), h.size()\n",
    "avg_deg= float(K) / N\n",
    "print (\"# Nodes: \", N, \"(Applications & NPAs)\")\n",
    "print (\"# Edges: \", K)\n",
    "print (\"Average Degree: \", avg_deg)\n",
    "# Extract reference graph facts & metrics \n",
    "in_degrees= h.in_degree() # dictionary node:degree\n",
    "#in_values= sorted(set(in_degrees.values()))"
   ]
  },
  {
   "cell_type": "markdown",
   "metadata": {},
   "source": [
    "# Graph Drawing"
   ]
  },
  {
   "cell_type": "code",
   "execution_count": null,
   "metadata": {},
   "outputs": [],
   "source": [
    "# Plot the graph\n",
    "plt.figure(3,figsize=(90,90))  \n",
    "edges = g.edges()\n",
    "colors = [g[u][v]['color'] for u,v in edges]\n",
    "nx.draw(g,node_color = color_map, edge_color = colors, with_labels = True)\n",
    "plt.show()\n",
    "#plt.savefig('graph_test1.png')\n",
    "#Image(filename='graph_test1.png')\n"
   ]
  },
  {
   "cell_type": "code",
   "execution_count": null,
   "metadata": {
    "collapsed": true
   },
   "outputs": [],
   "source": []
  }
 ],
 "metadata": {
  "kernelspec": {
   "display_name": "Python 3",
   "language": "python",
   "name": "python3"
  },
  "language_info": {
   "codemirror_mode": {
    "name": "ipython",
    "version": 3
   },
   "file_extension": ".py",
   "mimetype": "text/x-python",
   "name": "python",
   "nbconvert_exporter": "python",
   "pygments_lexer": "ipython3",
   "version": "3.6.3"
  }
 },
 "nbformat": 4,
 "nbformat_minor": 2
}
